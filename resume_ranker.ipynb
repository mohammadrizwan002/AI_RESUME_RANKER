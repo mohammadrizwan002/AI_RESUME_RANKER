{
  "nbformat": 4,
  "nbformat_minor": 0,
  "metadata": {
    "colab": {
      "provenance": []
    },
    "kernelspec": {
      "name": "python3",
      "display_name": "Python 3"
    },
    "language_info": {
      "name": "python"
    }
  },
  "cells": [
    {
      "cell_type": "code",
      "execution_count": 4,
      "metadata": {
        "colab": {
          "base_uri": "https://localhost:8080/"
        },
        "id": "4W1eMsBuWhq0",
        "outputId": "83256037-141b-4ac3-dc83-d39e6dcb0e9a"
      },
      "outputs": [
        {
          "output_type": "stream",
          "name": "stdout",
          "text": [
            "\u001b[33mWARNING: Skipping fitz as it is not installed.\u001b[0m\u001b[33m\n",
            "\u001b[0m✅ Resume Ranking Complete!\n",
            "                 Resume  Match (%)\n",
            "0  MD_RIZWAN_RESUME.pdf      10.69\n",
            "1     sabiha_resume.pdf       2.91\n"
          ]
        }
      ],
      "source": [
        "# Install required packages\n",
        "!pip uninstall -y fitz -q\n",
        "!pip install pymupdf pandas scikit-learn -q\n",
        "\n",
        "# Import correct libraries\n",
        "import pymupdf\n",
        "import pandas as pd\n",
        "from sklearn.feature_extraction.text import TfidfVectorizer\n",
        "from sklearn.metrics.pairwise import cosine_similarity\n",
        "import os\n",
        "\n",
        "# Fix pymupdf import\n",
        "fitz = pymupdf  # to use fitz.open()\n",
        "\n",
        "#File paths (upload these from left side panel)\n",
        "resume_files = {\n",
        "    \"MD_RIZWAN_RESUME.pdf\": \"/content/MD_RIZWAN_RESUME.pdf\",\n",
        "    \"sabiha_resume.pdf\": \"/content/sabiha_resume.pdf\"\n",
        "}\n",
        "\n",
        "#Job Description\n",
        "job_description = \"\"\"\n",
        "We are hiring a Python Developer skilled in Pandas, NumPy, Scikit-learn,\n",
        "machine learning, and deployment tools like Flask or Streamlit.\n",
        "\"\"\"\n",
        "\n",
        "# Extract text from PDF\n",
        "def extract_text_from_pdf(pdf_path):\n",
        "    doc = fitz.open(pdf_path)\n",
        "    text = \"\"\n",
        "    for page in doc:\n",
        "        text += page.get_text()\n",
        "    return text\n",
        "\n",
        "# Process resumes\n",
        "resume_texts = []\n",
        "resume_names = []\n",
        "\n",
        "for name, path in resume_files.items():\n",
        "    if os.path.exists(path):\n",
        "        text = extract_text_from_pdf(path)\n",
        "        resume_texts.append(text)\n",
        "        resume_names.append(name)\n",
        "    else:\n",
        "        print(f\"❌ File not found: {name}\")\n",
        "\n",
        "# TF-IDF Matching\n",
        "documents = [job_description] + resume_texts\n",
        "vectorizer = TfidfVectorizer(stop_words='english')\n",
        "tfidf_matrix = vectorizer.fit_transform(documents)\n",
        "scores = cosine_similarity(tfidf_matrix[0:1], tfidf_matrix[1:]).flatten()\n",
        "\n",
        "# Show result & save\n",
        "df = pd.DataFrame({\n",
        "    'Resume': resume_names,\n",
        "    'Match (%)': (scores * 100).round(2)\n",
        "}).sort_values(by='Match (%)', ascending=False)\n",
        "\n",
        "df.to_csv(\"ranked_output.csv\", index=False)\n",
        "print(\"✅ Resume Ranking Complete!\")\n",
        "print(df)\n"
      ]
    }
  ]
}